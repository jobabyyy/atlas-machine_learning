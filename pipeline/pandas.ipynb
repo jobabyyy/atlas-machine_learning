{
  "nbformat": 4,
  "nbformat_minor": 0,
  "metadata": {
    "colab": {
      "provenance": [],
      "authorship_tag": "ABX9TyOidnR++h6XJB5W72jrY7rj",
      "include_colab_link": true
    },
    "kernelspec": {
      "name": "python3",
      "display_name": "Python 3"
    },
    "language_info": {
      "name": "python"
    }
  },
  "cells": [
    {
      "cell_type": "markdown",
      "metadata": {
        "id": "view-in-github",
        "colab_type": "text"
      },
      "source": [
        "<a href=\"https://colab.research.google.com/github/jobabyyy/atlas-machine_learning/blob/main/pipeline/pandas.ipynb\" target=\"_parent\"><img src=\"https://colab.research.google.com/assets/colab-badge.svg\" alt=\"Open In Colab\"/></a>"
      ]
    },
    {
      "cell_type": "code",
      "execution_count": null,
      "metadata": {
        "id": "hBos4OQE4x3U"
      },
      "outputs": [],
      "source": [
        "pip install --user pandas"
      ]
    },
    {
      "cell_type": "code",
      "source": [
        "\"\"\"\n",
        "Pandas: Task 0 - From Numpy\n",
        "\"\"\"\n",
        "\n",
        "import pandas as pd\n",
        "import numpy as np\n",
        "\n",
        "def from_numpy(array):\n",
        "    \"\"\"\n",
        "    array: is the np.ndarray from which you should create the pd.DataFrame\n",
        "    columns: of the pd.DataFrame should be labeled in alphabetical order and\n",
        "             capitalized. There will not be more than 26 columns.\n",
        "    Returns: the newly created pd.DataFrame\n",
        "    \"\"\"\n",
        "    num_of_cols = array.shape[1]\n",
        "\n",
        "    columns = [chr(ord('A') + i) for i in range(num_of_cols)]\n",
        "\n",
        "    columns = [col.upper() for col in columns]\n",
        "\n",
        "    # Create DataFrame\n",
        "    df = pd.DataFrame(array, columns=columns)\n",
        "\n",
        "    return df\n",
        "\n",
        "\n",
        "if __name__ == '__main__':\n",
        "\n",
        "  import numpy as np\n",
        "\n",
        "  np.random.seed(0)\n",
        "  A = np.random.randn(5, 8)\n",
        "  print(from_numpy(A))\n",
        "  B = np.random.randn(9, 3)\n",
        "  print(from_numpy(B))"
      ],
      "metadata": {
        "id": "nJxIKxsD4_Uf",
        "colab": {
          "base_uri": "https://localhost:8080/"
        },
        "outputId": "6aa96b0b-5a90-41a2-db34-52998bd04d72"
      },
      "execution_count": null,
      "outputs": [
        {
          "output_type": "stream",
          "name": "stdout",
          "text": [
            "          A         B         C         D         E         F         G  \\\n",
            "0  1.764052  0.400157  0.978738  2.240893  1.867558 -0.977278  0.950088   \n",
            "1 -0.103219  0.410599  0.144044  1.454274  0.761038  0.121675  0.443863   \n",
            "2  1.494079 -0.205158  0.313068 -0.854096 -2.552990  0.653619  0.864436   \n",
            "3  2.269755 -1.454366  0.045759 -0.187184  1.532779  1.469359  0.154947   \n",
            "4 -0.887786 -1.980796 -0.347912  0.156349  1.230291  1.202380 -0.387327   \n",
            "\n",
            "          H  \n",
            "0 -0.151357  \n",
            "1  0.333674  \n",
            "2 -0.742165  \n",
            "3  0.378163  \n",
            "4 -0.302303  \n",
            "          A         B         C\n",
            "0 -1.048553 -1.420018 -1.706270\n",
            "1  1.950775 -0.509652 -0.438074\n",
            "2 -1.252795  0.777490 -1.613898\n",
            "3 -0.212740 -0.895467  0.386902\n",
            "4 -0.510805 -1.180632 -0.028182\n",
            "5  0.428332  0.066517  0.302472\n",
            "6 -0.634322 -0.362741 -0.672460\n",
            "7 -0.359553 -0.813146 -1.726283\n",
            "8  0.177426 -0.401781 -1.630198\n"
          ]
        }
      ]
    },
    {
      "cell_type": "code",
      "source": [
        "\"\"\"\n",
        "Pandas: Task 1 - From Dictonary.\n",
        "\"\"\"\n",
        "\n",
        "\n",
        "import pandas as pd\n",
        "\n",
        "\n",
        "# dictinory defined\n",
        "data = {\n",
        "    'First': [0.0, 0.5, 1.0, 1.5],\n",
        "    'Second': ['one', 'two', 'three', 'four']\n",
        "}\n",
        "\n",
        "# row labels defined\n",
        "index = ['A', 'B', 'C', 'D']\n",
        "\n",
        "df = pd.DataFrame(data, index=index)\n",
        "print(df)"
      ],
      "metadata": {
        "colab": {
          "base_uri": "https://localhost:8080/"
        },
        "id": "12MQbNl39X-T",
        "outputId": "e6503db2-3609-494a-cadd-0da7403507ca"
      },
      "execution_count": null,
      "outputs": [
        {
          "output_type": "stream",
          "name": "stdout",
          "text": [
            "   First Second\n",
            "A    0.0    one\n",
            "B    0.5    two\n",
            "C    1.0  three\n",
            "D    1.5   four\n"
          ]
        }
      ]
    },
    {
      "cell_type": "code",
      "source": [
        "\"\"\"\n",
        "Pandas: Task 2 - From File\n",
        "\"\"\"\n",
        "\n",
        "\n",
        "import pandas as pd\n",
        "\n",
        "def from_file(filename, delimiter):\n",
        "  \"\"\"\n",
        "  Write a function that loads data from a\n",
        "  file as a pd.DataFrame:\n",
        "\n",
        "  filename: is the file to load from\n",
        "  delimiter: is the column separator\n",
        "  Returns: the loaded pd.DataFrame\n",
        "  \"\"\"\n",
        "  df = pd.read_csv(filename, delimiter=delimiter)\n",
        "\n",
        "  return df\n",
        "\n",
        "if __name__ == '__main__':\n",
        "\n",
        "  df1 = from_file('coinbaseUSD_1-min_data_2014-12-01_to_2019-01-09.csv', ',')\n",
        "  print(df1.head())\n",
        "  df2 = from_file('bitstampUSD_1-min_data_2012-01-01_to_2020-04-22.csv', ',')\n",
        "  print(df2.tail())"
      ],
      "metadata": {
        "colab": {
          "base_uri": "https://localhost:8080/"
        },
        "id": "E1K0IKnl-zBd",
        "outputId": "0bbd8506-82fc-4eaa-deb6-eefe6d667074"
      },
      "execution_count": null,
      "outputs": [
        {
          "output_type": "stream",
          "name": "stdout",
          "text": [
            "    Timestamp   Open   High    Low  Close  Volume_(BTC)  Volume_(Currency)  \\\n",
            "0  1417411980  300.0  300.0  300.0  300.0          0.01                3.0   \n",
            "1  1417412040    NaN    NaN    NaN    NaN           NaN                NaN   \n",
            "2  1417412100    NaN    NaN    NaN    NaN           NaN                NaN   \n",
            "3  1417412160    NaN    NaN    NaN    NaN           NaN                NaN   \n",
            "4  1417412220    NaN    NaN    NaN    NaN           NaN                NaN   \n",
            "\n",
            "   Weighted_Price  \n",
            "0           300.0  \n",
            "1             NaN  \n",
            "2             NaN  \n",
            "3             NaN  \n",
            "4             NaN  \n",
            "          Timestamp     Open     High      Low    Close  Volume_(BTC)  \\\n",
            "4363452  1587513360  6847.97  6856.35  6847.97  6856.35      0.125174   \n",
            "4363453  1587513420  6850.23  6856.13  6850.23  6850.89      1.224777   \n",
            "4363454  1587513480  6846.50  6857.45  6846.02  6857.45      7.089168   \n",
            "4363455  1587513540  6854.18  6854.98  6854.18  6854.98      0.012231   \n",
            "4363456  1587513600  6850.60  6850.60  6850.60  6850.60      0.014436   \n",
            "\n",
            "         Volume_(Currency)  Weighted_Price  \n",
            "4363452         858.128697     6855.498790  \n",
            "4363453        8396.781459     6855.763449  \n",
            "4363454       48533.089069     6846.090966  \n",
            "4363455          83.831604     6854.195090  \n",
            "4363456          98.896906     6850.600000  \n"
          ]
        }
      ]
    },
    {
      "cell_type": "code",
      "source": [
        "\"\"\"\n",
        "Pandas: Task 3 - Rename.\n",
        "\"\"\"\n",
        "\n",
        "\n",
        "import pandas as pd\n",
        "\n",
        "\n",
        "\n",
        "def from_file(filename, delimiter):\n",
        "  \"\"\"\n",
        "  Write a function that loads data from a\n",
        "  file as a pd.DataFrame:\n",
        "\n",
        "  filename: is the file to load from\n",
        "  delimiter: is the column separator\n",
        "  Returns: the loaded pd.DataFrame\n",
        "  \"\"\"\n",
        "  df = pd.read_csv(filename, delimiter=delimiter)\n",
        "\n",
        "  return df\n",
        "\n",
        "if __name__ == '__main__':\n",
        "  import pandas as pd\n",
        "\n",
        "  df = from_file('coinbaseUSD_1-min_data_2014-12-01_to_2019-01-09.csv', ',')\n",
        "\n",
        "  df.rename(columns={'Timestamp': 'Datetime'}, inplace=True)\n",
        "\n",
        "  # convert to datetime values\n",
        "  df['Datetime'] = pd.to_datetime(df['Datetime'], unit='s')\n",
        "\n",
        "  df = df[['Datetime', 'Close']]\n",
        "\n",
        "  print(df.tail())\n"
      ],
      "metadata": {
        "colab": {
          "base_uri": "https://localhost:8080/"
        },
        "id": "Pq8botzhR303",
        "outputId": "93e35b7f-2354-4f51-aa2a-905171d65cdc"
      },
      "execution_count": null,
      "outputs": [
        {
          "output_type": "stream",
          "name": "stdout",
          "text": [
            "                   Datetime    Close\n",
            "2099755 2019-01-07 22:02:00  4006.01\n",
            "2099756 2019-01-07 22:03:00  4006.01\n",
            "2099757 2019-01-07 22:04:00  4006.01\n",
            "2099758 2019-01-07 22:05:00  4005.50\n",
            "2099759 2019-01-07 22:06:00  4005.99\n"
          ]
        }
      ]
    },
    {
      "cell_type": "code",
      "source": [
        "\"\"\"\n",
        "Pandas: Task 4 - To Numpy.\n",
        "\"\"\"\n",
        "\n",
        "\n",
        "import pandas as pd\n",
        "\n",
        "\n",
        "def from_file(filename, delimiter):\n",
        "  \"\"\"\n",
        "  Write a function that loads data from a\n",
        "  file as a pd.DataFrame:\n",
        "\n",
        "  filename: is the file to load from\n",
        "  delimiter: is the column separator\n",
        "  Returns: the loaded pd.DataFrame\n",
        "  \"\"\"\n",
        "  df = pd.read_csv(filename, delimiter=delimiter)\n",
        "\n",
        "  return df\n",
        "\n",
        "\n",
        "if __name__ == '__main__':\n",
        "  import pandas as pd\n",
        "\n",
        "  df = from_file('coinbaseUSD_1-min_data_2014-12-01_to_2019-01-09.csv', ',')\n",
        "\n",
        "  # Take the last 10 rows of the 'High' and 'Close' columns\n",
        "  last_10_rows = df[['High', 'Close']].tail(10)\n",
        "\n",
        "  # Convert the last 10 rows into a numpy.ndarray\n",
        "  array_last_10_rows = last_10_rows.to_numpy()\n",
        "\n",
        "  print(array_last_10_rows)\n"
      ],
      "metadata": {
        "colab": {
          "base_uri": "https://localhost:8080/"
        },
        "id": "JTXyjN0bUdjj",
        "outputId": "c5f08b09-3cb2-4791-f585-db1fec405373"
      },
      "execution_count": null,
      "outputs": [
        {
          "output_type": "stream",
          "name": "stdout",
          "text": [
            "[[4009.54 4007.01]\n",
            " [4007.01 4003.49]\n",
            " [4007.29 4006.57]\n",
            " [4006.57 4006.56]\n",
            " [4006.57 4006.01]\n",
            " [4006.57 4006.01]\n",
            " [4006.57 4006.01]\n",
            " [4006.01 4006.01]\n",
            " [4006.01 4005.5 ]\n",
            " [4006.01 4005.99]]\n"
          ]
        }
      ]
    },
    {
      "cell_type": "code",
      "source": [
        "\"\"\"\n",
        "Pandas: Task 5 - Slice.\n",
        "\"\"\"\n",
        "\n",
        "\n",
        "import pandas as pd\n",
        "\n",
        "\n",
        "def from_file(filename, delimiter):\n",
        "  \"\"\"\n",
        "  Write a function that loads data from a\n",
        "  file as a pd.DataFrame:\n",
        "\n",
        "  filename: is the file to load from\n",
        "  delimiter: is the column separator\n",
        "  Returns: the loaded pd.DataFrame\n",
        "  \"\"\"\n",
        "  df = pd.read_csv(filename, delimiter=delimiter)\n",
        "\n",
        "  return df\n",
        "\n",
        "if __name__ == '__main__':\n",
        "\n",
        "  import pandas as pd\n",
        "\n",
        "  df = from_file('coinbaseUSD_1-min_data_2014-12-01_to_2019-01-09.csv', ',')\n",
        "\n",
        "\n",
        "  df = df.iloc[::60, [2, 3, 4, 5]]\n",
        "\n",
        "\n",
        "  print(df.tail())\n"
      ],
      "metadata": {
        "id": "QT3CXt0BWenz",
        "colab": {
          "base_uri": "https://localhost:8080/"
        },
        "outputId": "43737633-37c0-47a4-9a38-be27cd580650"
      },
      "execution_count": null,
      "outputs": [
        {
          "output_type": "stream",
          "name": "stdout",
          "text": [
            "            High      Low    Close  Volume_(BTC)\n",
            "2099460  4020.08  4020.07  4020.08      4.704989\n",
            "2099520  4020.94  4020.93  4020.94      2.111411\n",
            "2099580  4020.00  4019.01  4020.00      4.637035\n",
            "2099640  4017.00  4016.99  4017.00      2.362372\n",
            "2099700  4014.78  4013.50  4014.72      1.291557\n"
          ]
        }
      ]
    },
    {
      "cell_type": "code",
      "source": [
        "\"\"\"\n",
        "Pandas: Task 6 - Flip it & Switch it.\n",
        "\"\"\"\n",
        "\n",
        "import pandas as pd\n",
        "\n",
        "\n",
        "def from_file(filename, delimiter):\n",
        "  \"\"\"\n",
        "  Write a function that loads data from a\n",
        "  file as a pd.DataFrame:\n",
        "\n",
        "  filename: is the file to load from\n",
        "  delimiter: is the column separator\n",
        "  Returns: the loaded pd.DataFrame\n",
        "  \"\"\"\n",
        "  df = pd.read_csv(filename, delimiter=delimiter)\n",
        "\n",
        "  return df\n",
        "\n",
        "if __name__ == '__main__':\n",
        "  import pandas as pd\n",
        "\n",
        "  df = from_file('coinbaseUSD_1-min_data_2014-12-01_to_2019-01-09.csv', ',')\n",
        "\n",
        "  result = df.transpose()\n",
        "\n",
        "  print(result)"
      ],
      "metadata": {
        "colab": {
          "base_uri": "https://localhost:8080/"
        },
        "id": "ulhbC9a-u9hP",
        "outputId": "8fcb2629-def1-490d-f45f-1d2f9bb50642"
      },
      "execution_count": null,
      "outputs": [
        {
          "output_type": "stream",
          "name": "stdout",
          "text": [
            "                        0             1             2             3        \\\n",
            "Timestamp          1.417412e+09  1.417412e+09  1.417412e+09  1.417412e+09   \n",
            "Open               3.000000e+02           NaN           NaN           NaN   \n",
            "High               3.000000e+02           NaN           NaN           NaN   \n",
            "Low                3.000000e+02           NaN           NaN           NaN   \n",
            "Close              3.000000e+02           NaN           NaN           NaN   \n",
            "Volume_(BTC)       1.000000e-02           NaN           NaN           NaN   \n",
            "Volume_(Currency)  3.000000e+00           NaN           NaN           NaN   \n",
            "Weighted_Price     3.000000e+02           NaN           NaN           NaN   \n",
            "\n",
            "                        4             5             6             7        \\\n",
            "Timestamp          1.417412e+09  1.417412e+09  1.417412e+09  1.417412e+09   \n",
            "Open                        NaN           NaN           NaN  3.000000e+02   \n",
            "High                        NaN           NaN           NaN  3.000000e+02   \n",
            "Low                         NaN           NaN           NaN  3.000000e+02   \n",
            "Close                       NaN           NaN           NaN  3.000000e+02   \n",
            "Volume_(BTC)                NaN           NaN           NaN  1.000000e-02   \n",
            "Volume_(Currency)           NaN           NaN           NaN  3.000000e+00   \n",
            "Weighted_Price              NaN           NaN           NaN  3.000000e+02   \n",
            "\n",
            "                        8             9        ...       2099750  \\\n",
            "Timestamp          1.417412e+09  1.417413e+09  ...  1.546898e+09   \n",
            "Open                        NaN           NaN  ...  4.009540e+03   \n",
            "High                        NaN           NaN  ...  4.009540e+03   \n",
            "Low                         NaN           NaN  ...  4.007000e+03   \n",
            "Close                       NaN           NaN  ...  4.007010e+03   \n",
            "Volume_(BTC)                NaN           NaN  ...  4.540920e+00   \n",
            "Volume_(Currency)           NaN           NaN  ...  1.819998e+04   \n",
            "Weighted_Price              NaN           NaN  ...  4.007993e+03   \n",
            "\n",
            "                        2099751       2099752       2099753       2099754  \\\n",
            "Timestamp          1.546898e+09  1.546898e+09  1.546898e+09  1.546898e+09   \n",
            "Open               4.007000e+03  4.003490e+03  4.006560e+03  4.006570e+03   \n",
            "High               4.007010e+03  4.007290e+03  4.006570e+03  4.006570e+03   \n",
            "Low                4.000240e+03  4.003490e+03  4.006560e+03  4.006000e+03   \n",
            "Close              4.003490e+03  4.006570e+03  4.006560e+03  4.006010e+03   \n",
            "Volume_(BTC)       9.452163e+00  1.183828e+01  8.475772e+00  6.951222e+00   \n",
            "Volume_(Currency)  3.784576e+04  4.741754e+04  3.395870e+04  2.784951e+04   \n",
            "Weighted_Price     4.003925e+03  4.005441e+03  4.006561e+03  4.006419e+03   \n",
            "\n",
            "                        2099755       2099756       2099757       2099758  \\\n",
            "Timestamp          1.546899e+09  1.546899e+09  1.546899e+09  1.546899e+09   \n",
            "Open               4.006010e+03  4.006010e+03  4.006010e+03  4.006010e+03   \n",
            "High               4.006570e+03  4.006570e+03  4.006010e+03  4.006010e+03   \n",
            "Low                4.006000e+03  4.006000e+03  4.006000e+03  4.005500e+03   \n",
            "Close              4.006010e+03  4.006010e+03  4.006010e+03  4.005500e+03   \n",
            "Volume_(BTC)       3.382954e+00  9.021637e-01  1.192123e+00  2.699700e+00   \n",
            "Volume_(Currency)  1.355343e+04  3.614083e+03  4.775647e+03  1.081424e+04   \n",
            "Weighted_Price     4.006390e+03  4.006017e+03  4.006004e+03  4.005720e+03   \n",
            "\n",
            "                        2099759  \n",
            "Timestamp          1.546899e+09  \n",
            "Open               4.005510e+03  \n",
            "High               4.006010e+03  \n",
            "Low                4.005510e+03  \n",
            "Close              4.005990e+03  \n",
            "Volume_(BTC)       1.752778e+00  \n",
            "Volume_(Currency)  7.021184e+03  \n",
            "Weighted_Price     4.005746e+03  \n",
            "\n",
            "[8 rows x 2099760 columns]\n"
          ]
        }
      ]
    },
    {
      "cell_type": "code",
      "source": [
        "\"\"\"\n",
        "Pandas: Task 7 - Sort.\n",
        "\"\"\"\n",
        "\n",
        "import pandas as pd\n",
        "\n",
        "\n",
        "def from_file(filename, delimiter):\n",
        "  \"\"\"\n",
        "  Write a function that loads data from a\n",
        "  file as a pd.DataFrame:\n",
        "\n",
        "  filename: is the file to load from\n",
        "  delimiter: is the column separator\n",
        "  Returns: the loaded pd.DataFrame\n",
        "  \"\"\"\n",
        "  df = pd.read_csv(filename, delimiter=delimiter)\n",
        "\n",
        "  return df\n",
        "\n",
        "if __name__ == '__main__':\n",
        "  import pandas as pd\n",
        "\n",
        "  df = from_file('coinbaseUSD_1-min_data_2014-12-01_to_2019-01-09.csv', ',')\n",
        "\n",
        "  df.sort_values(by=['High'], inplace=True, ascending=False)\n",
        "\n",
        "  print(df.head())"
      ],
      "metadata": {
        "colab": {
          "base_uri": "https://localhost:8080/"
        },
        "id": "pOroLvg62MvS",
        "outputId": "d8b5cbfc-12a6-4432-ef3e-0a10a1e145b8"
      },
      "execution_count": null,
      "outputs": [
        {
          "output_type": "stream",
          "name": "stdout",
          "text": [
            "          Timestamp      Open      High       Low     Close  Volume_(BTC)  \\\n",
            "1543350  1513514220  19891.99  19891.99  19891.98  19891.98      3.323210   \n",
            "1543352  1513514340  19891.99  19891.99  19891.98  19891.98      9.836946   \n",
            "1543351  1513514280  19891.99  19891.99  19891.98  19891.98      8.172155   \n",
            "1543349  1513514160  19891.00  19891.99  19890.99  19891.99      1.336512   \n",
            "1543353  1513514400  19891.99  19891.99  19876.22  19884.99     19.925151   \n",
            "\n",
            "         Volume_(Currency)  Weighted_Price  \n",
            "1543350       66105.250870    19891.984712  \n",
            "1543352      195676.363110    19891.983294  \n",
            "1543351      162560.403740    19891.987528  \n",
            "1543349       26584.930278    19891.272886  \n",
            "1543353      396292.881750    19889.078007  \n"
          ]
        }
      ]
    },
    {
      "cell_type": "code",
      "source": [
        "\"\"\"\n",
        "Pandas: Task 8 - Prune.\n",
        "\"\"\"\n",
        "\n",
        "\n",
        "import pandas as pd\n",
        "\n",
        "\n",
        "def from_file(filename, delimiter):\n",
        "  \"\"\"\n",
        "  Write a function that loads data from a\n",
        "  file as a pd.DataFrame:\n",
        "\n",
        "  filename: is the file to load from\n",
        "  delimiter: is the column separator\n",
        "  Returns: the loaded pd.DataFrame\n",
        "  \"\"\"\n",
        "  df = pd.read_csv(filename, delimiter=delimiter)\n",
        "\n",
        "  return df\n",
        "\n",
        "if __name__ == '__main__':\n",
        "  import pandas as pd\n",
        "\n",
        "  df = from_file('coinbaseUSD_1-min_data_2014-12-01_to_2019-01-09.csv', ',')\n",
        "\n",
        "  df = df.dropna(subset=('Close'))\n",
        "\n",
        "  print(df.head())"
      ],
      "metadata": {
        "colab": {
          "base_uri": "https://localhost:8080/"
        },
        "id": "srwvmnfb2N6e",
        "outputId": "b73b44f2-8482-4d76-f8f3-bb14c95e058a"
      },
      "execution_count": null,
      "outputs": [
        {
          "output_type": "stream",
          "name": "stdout",
          "text": [
            "       Timestamp   Open   High    Low  Close  Volume_(BTC)  Volume_(Currency)  \\\n",
            "0     1417411980  300.0  300.0  300.0  300.0      0.010000            3.00000   \n",
            "7     1417412400  300.0  300.0  300.0  300.0      0.010000            3.00000   \n",
            "51    1417415040  370.0  370.0  370.0  370.0      0.010000            3.70000   \n",
            "77    1417416600  370.0  370.0  370.0  370.0      0.026556            9.82555   \n",
            "1436  1417498140  377.0  377.0  377.0  377.0      0.010000            3.77000   \n",
            "\n",
            "      Weighted_Price  \n",
            "0              300.0  \n",
            "7              300.0  \n",
            "51             370.0  \n",
            "77             370.0  \n",
            "1436           377.0  \n"
          ]
        }
      ]
    },
    {
      "cell_type": "code",
      "source": [
        "\"\"\"\n",
        "Pandas: Task 9 - Fill.\n",
        "\"\"\"\n",
        "\n",
        "import pandas as pd\n",
        "\n",
        "\n",
        "def from_file(filename, delimiter):\n",
        "  \"\"\"\n",
        "  Write a function that loads data from a\n",
        "  file as a pd.DataFrame:\n",
        "\n",
        "  filename: is the file to load from\n",
        "  delimiter: is the column separator\n",
        "  Returns: the loaded pd.DataFrame\n",
        "  \"\"\"\n",
        "  df = pd.read_csv(filename, delimiter=delimiter)\n",
        "\n",
        "  return df\n",
        "\n",
        "if __name__ == '__main__':\n",
        "  import pandas as pd\n",
        "\n",
        "  df = from_file('coinbaseUSD_1-min_data_2014-12-01_to_2019-01-09.csv', ',')\n",
        "\n",
        "  # col weighted_price removed\n",
        "  df.drop(columns=['Weighted_Price'], inplace=True)\n",
        "\n",
        "\n",
        "  df['Close'] = df['Close'].fillna(method='ffill')\n",
        "\n",
        "  # convert timestamp vals to floats\n",
        "  df['Timestamp'] = df['Timestamp'].astype(float)\n",
        "\n",
        "\n",
        "  df['High'].fillna(df['Close'], inplace=True)\n",
        "  df['Low'].fillna(df['Close'], inplace=True)\n",
        "  df['Open'].fillna(df['Close'], inplace=True)\n",
        "\n",
        "  # missing vals set to 0\n",
        "  df['Volume_(BTC)'].fillna(0, inplace=True)\n",
        "  df['Volume_(Currency)'].fillna(0, inplace=True)\n",
        "\n",
        "  print(df.head())\n",
        "  print(df.tail())"
      ],
      "metadata": {
        "colab": {
          "base_uri": "https://localhost:8080/"
        },
        "id": "weCgfF2D6nQ_",
        "outputId": "5a63ee0a-dddd-4c19-e9c9-4da9c0d6192e"
      },
      "execution_count": null,
      "outputs": [
        {
          "output_type": "stream",
          "name": "stdout",
          "text": [
            "      Timestamp   Open   High    Low  Close  Volume_(BTC)  Volume_(Currency)\n",
            "0  1.417412e+09  300.0  300.0  300.0  300.0          0.01                3.0\n",
            "1  1.417412e+09  300.0  300.0  300.0  300.0          0.00                0.0\n",
            "2  1.417412e+09  300.0  300.0  300.0  300.0          0.00                0.0\n",
            "3  1.417412e+09  300.0  300.0  300.0  300.0          0.00                0.0\n",
            "4  1.417412e+09  300.0  300.0  300.0  300.0          0.00                0.0\n",
            "            Timestamp     Open     High      Low    Close  Volume_(BTC)  \\\n",
            "2099755  1.546899e+09  4006.01  4006.57  4006.00  4006.01      3.382954   \n",
            "2099756  1.546899e+09  4006.01  4006.57  4006.00  4006.01      0.902164   \n",
            "2099757  1.546899e+09  4006.01  4006.01  4006.00  4006.01      1.192123   \n",
            "2099758  1.546899e+09  4006.01  4006.01  4005.50  4005.50      2.699700   \n",
            "2099759  1.546899e+09  4005.51  4006.01  4005.51  4005.99      1.752778   \n",
            "\n",
            "         Volume_(Currency)  \n",
            "2099755       13553.433078  \n",
            "2099756        3614.083168  \n",
            "2099757        4775.647308  \n",
            "2099758       10814.241898  \n",
            "2099759        7021.183546  \n"
          ]
        }
      ]
    },
    {
      "cell_type": "code",
      "source": [
        "\"\"\"\n",
        "Pandas: Task 10 - Indexing.\n",
        "\"\"\"\n",
        "\n",
        "import pandas as pd\n",
        "\n",
        "\n",
        "def from_file(filename, delimiter):\n",
        "  \"\"\"\n",
        "  Write a function that loads data from a\n",
        "  file as a pd.DataFrame:\n",
        "\n",
        "  filename: is the file to load from\n",
        "  delimiter: is the column separator\n",
        "  Returns: the loaded pd.DataFrame\n",
        "  \"\"\"\n",
        "  df = pd.read_csv(filename, delimiter=delimiter)\n",
        "\n",
        "  return df\n",
        "\n",
        "if __name__ == '__main__':\n",
        "  import pandas as pd\n",
        "\n",
        "  df = from_file('coinbaseUSD_1-min_data_2014-12-01_to_2019-01-09.csv', ',')\n",
        "\n",
        "  df = df.set_index('Timestamp')\n",
        "\n",
        "  print(df.tail())"
      ],
      "metadata": {
        "colab": {
          "base_uri": "https://localhost:8080/"
        },
        "id": "l4ULeE4KBnUA",
        "outputId": "9fbe445f-5434-4d1d-eadc-319b1d791d0b"
      },
      "execution_count": null,
      "outputs": [
        {
          "output_type": "stream",
          "name": "stdout",
          "text": [
            "               Open     High      Low    Close  Volume_(BTC)  \\\n",
            "Timestamp                                                      \n",
            "1546898520  4006.01  4006.57  4006.00  4006.01      3.382954   \n",
            "1546898580  4006.01  4006.57  4006.00  4006.01      0.902164   \n",
            "1546898640  4006.01  4006.01  4006.00  4006.01      1.192123   \n",
            "1546898700  4006.01  4006.01  4005.50  4005.50      2.699700   \n",
            "1546898760  4005.51  4006.01  4005.51  4005.99      1.752778   \n",
            "\n",
            "            Volume_(Currency)  Weighted_Price  \n",
            "Timestamp                                      \n",
            "1546898520       13553.433078     4006.390309  \n",
            "1546898580        3614.083168     4006.017232  \n",
            "1546898640        4775.647308     4006.003635  \n",
            "1546898700       10814.241898     4005.719991  \n",
            "1546898760        7021.183546     4005.745614  \n"
          ]
        }
      ]
    },
    {
      "cell_type": "code",
      "source": [
        "\"\"\"\n",
        "Pandas: Task 11 - Concatenate.\n",
        "\"\"\"\n",
        "\n",
        "import pandas as pd\n",
        "\n",
        "\n",
        "def from_file(filename, delimiter):\n",
        "  \"\"\"\n",
        "  Write a function that loads data from a\n",
        "  file as a pd.DataFrame:\n",
        "\n",
        "  filename: is the file to load from\n",
        "  delimiter: is the column separator\n",
        "  Returns: the loaded pd.DataFrame\n",
        "  \"\"\"\n",
        "  df = pd.read_csv(filename, delimiter=delimiter)\n",
        "\n",
        "  return df\n",
        "\n",
        "if __name__ == '__main__':\n",
        "  import pandas as pd\n",
        "\n",
        "  df = from_file('coinbaseUSD_1-min_data_2014-12-01_to_2019-01-09.csv', ',')\n",
        "  df2 = from_file('bitstampUSD_1-min_data_2012-01-01_to_2020-04-22.csv', ',')\n",
        "\n",
        "  df = df.set_index('Timestamp')\n",
        "  df2 = df2.set_index('Timestamp')\n",
        "\n",
        "  df = pd.concat([df2, df], keys=['bitstamp', 'coinbase'])\n",
        "\n",
        "  print(df)"
      ],
      "metadata": {
        "colab": {
          "base_uri": "https://localhost:8080/"
        },
        "id": "wGBoOqBBDDAQ",
        "outputId": "243c4775-2bd4-417e-d5d1-a44881dd9b45"
      },
      "execution_count": null,
      "outputs": [
        {
          "output_type": "stream",
          "name": "stdout",
          "text": [
            "                        Open     High      Low    Close  Volume_(BTC)  \\\n",
            "         Timestamp                                                      \n",
            "bitstamp 1325317920     4.39     4.39     4.39     4.39      0.455581   \n",
            "         1325317980      NaN      NaN      NaN      NaN           NaN   \n",
            "         1325318040      NaN      NaN      NaN      NaN           NaN   \n",
            "         1325318100      NaN      NaN      NaN      NaN           NaN   \n",
            "         1325318160      NaN      NaN      NaN      NaN           NaN   \n",
            "...                      ...      ...      ...      ...           ...   \n",
            "coinbase 1546898520  4006.01  4006.57  4006.00  4006.01      3.382954   \n",
            "         1546898580  4006.01  4006.57  4006.00  4006.01      0.902164   \n",
            "         1546898640  4006.01  4006.01  4006.00  4006.01      1.192123   \n",
            "         1546898700  4006.01  4006.01  4005.50  4005.50      2.699700   \n",
            "         1546898760  4005.51  4006.01  4005.51  4005.99      1.752778   \n",
            "\n",
            "                     Volume_(Currency)  Weighted_Price  \n",
            "         Timestamp                                      \n",
            "bitstamp 1325317920           2.000000        4.390000  \n",
            "         1325317980                NaN             NaN  \n",
            "         1325318040                NaN             NaN  \n",
            "         1325318100                NaN             NaN  \n",
            "         1325318160                NaN             NaN  \n",
            "...                                ...             ...  \n",
            "coinbase 1546898520       13553.433078     4006.390309  \n",
            "         1546898580        3614.083168     4006.017232  \n",
            "         1546898640        4775.647308     4006.003635  \n",
            "         1546898700       10814.241898     4005.719991  \n",
            "         1546898760        7021.183546     4005.745614  \n",
            "\n",
            "[6463217 rows x 7 columns]\n"
          ]
        }
      ]
    },
    {
      "cell_type": "code",
      "source": [
        "\"\"\"\n",
        "Pandas: Task 12 - Hierarchy.\n",
        "\"\"\"\n",
        "\n",
        "import pandas as pd\n",
        "\n",
        "\n",
        "def from_file(filename, delimiter):\n",
        "  \"\"\"\n",
        "  Write a function that loads data from a\n",
        "  file as a pd.DataFrame:\n",
        "\n",
        "  filename: is the file to load from\n",
        "  delimiter: is the column separator\n",
        "  Returns: the loaded pd.DataFrame\n",
        "  \"\"\"\n",
        "  df = pd.read_csv(filename, delimiter=delimiter)\n",
        "\n",
        "  return df\n",
        "\n",
        "if __name__ == '__main__':\n",
        "\n",
        "  import pandas as pd\n",
        "\n",
        "  df = from_file('coinbaseUSD_1-min_data_2014-12-01_to_2019-01-09.csv', ',')\n",
        "  df2 = from_file('bitstampUSD_1-min_data_2012-01-01_to_2020-04-22.csv', ',')\n",
        "\n",
        "  timestamp_start = 1417411980\n",
        "  timestamp_end = 1417417980\n",
        "\n",
        "  df = df[(df['Timestamp'] >= timestamp_start) & (df['Timestamp'] <= timestamp_end)]\n",
        "  df2 = df2[(df2['Timestamp'] >= timestamp_start) & (df2['Timestamp'] <= timestamp_end)]\n",
        "\n",
        "  df = df.set_index('Timestamp')\n",
        "  df2 = df2.set_index('Timestamp')\n",
        "\n",
        "  combined_df = pd.concat([df2, df], keys=['bitstamp', 'coinbase'], names=['Exchange', 'Timestamp'])\n",
        "  combined_df = combined_df.swaplevel('Timestamp', 'Exchange').sort_index(level='Timestamp')\n",
        "\n",
        "  print(combined_df)"
      ],
      "metadata": {
        "colab": {
          "base_uri": "https://localhost:8080/"
        },
        "id": "Lq__ouV0FMKK",
        "outputId": "1e10b27d-556d-44d9-e1f4-ea62010e7688"
      },
      "execution_count": null,
      "outputs": [
        {
          "output_type": "stream",
          "name": "stdout",
          "text": [
            "                       Open   High     Low   Close  Volume_(BTC)  \\\n",
            "Timestamp  Exchange                                                \n",
            "1417411980 bitstamp  379.99  380.0  379.99  380.00      3.901265   \n",
            "           coinbase  300.00  300.0  300.00  300.00      0.010000   \n",
            "1417412040 bitstamp  380.00  380.0  380.00  380.00     35.249895   \n",
            "           coinbase     NaN    NaN     NaN     NaN           NaN   \n",
            "1417412100 bitstamp  380.00  380.0  380.00  380.00      3.712000   \n",
            "...                     ...    ...     ...     ...           ...   \n",
            "1417417860 coinbase     NaN    NaN     NaN     NaN           NaN   \n",
            "1417417920 bitstamp  380.09  380.1  380.09  380.10      1.503000   \n",
            "           coinbase     NaN    NaN     NaN     NaN           NaN   \n",
            "1417417980 bitstamp  380.10  380.1  378.85  378.85     26.599796   \n",
            "           coinbase     NaN    NaN     NaN     NaN           NaN   \n",
            "\n",
            "                     Volume_(Currency)  Weighted_Price  \n",
            "Timestamp  Exchange                                     \n",
            "1417411980 bitstamp        1482.461708      379.995162  \n",
            "           coinbase           3.000000      300.000000  \n",
            "1417412040 bitstamp       13394.959997      380.000000  \n",
            "           coinbase                NaN             NaN  \n",
            "1417412100 bitstamp        1410.560000      380.000000  \n",
            "...                                ...             ...  \n",
            "1417417860 coinbase                NaN             NaN  \n",
            "1417417920 bitstamp         571.285290      380.096667  \n",
            "           coinbase                NaN             NaN  \n",
            "1417417980 bitstamp       10079.364182      378.926376  \n",
            "           coinbase                NaN             NaN  \n",
            "\n",
            "[202 rows x 7 columns]\n"
          ]
        }
      ]
    },
    {
      "cell_type": "code",
      "source": [
        "\"\"\"\n",
        "Pandas: Task 13 - Analyze.\n",
        "\"\"\"\n",
        "\n",
        "import pandas as pd\n",
        "\n",
        "\n",
        "def from_file(filename, delimiter):\n",
        "  \"\"\"\n",
        "  Write a function that loads data from a\n",
        "  file as a pd.DataFrame:\n",
        "\n",
        "  filename: is the file to load from\n",
        "  delimiter: is the column separator\n",
        "  Returns: the loaded pd.DataFrame\n",
        "  \"\"\"\n",
        "  df = pd.read_csv(filename, delimiter=delimiter)\n",
        "\n",
        "  return df\n",
        "\n",
        "if __name__ == '__main__':\n",
        "\n",
        "  import pandas as pd\n",
        "\n",
        "  df = from_file('coinbaseUSD_1-min_data_2014-12-01_to_2019-01-09.csv', ',')\n",
        "\n",
        "  stats = df.drop(columns='Timestamp').describe()\n",
        "\n",
        "  print(stats)"
      ],
      "metadata": {
        "colab": {
          "base_uri": "https://localhost:8080/"
        },
        "id": "xMQ7_MZpGS7C",
        "outputId": "725a45cd-c266-4a82-e0f8-d8c7f8f476f7"
      },
      "execution_count": null,
      "outputs": [
        {
          "output_type": "stream",
          "name": "stdout",
          "text": [
            "               Open          High           Low         Close  Volume_(BTC)  \\\n",
            "count  1.990691e+06  1.990691e+06  1.990691e+06  1.990691e+06  1.990691e+06   \n",
            "mean   3.246403e+03  3.247829e+03  3.244856e+03  3.246403e+03  7.849139e+00   \n",
            "std    3.799154e+03  3.801394e+03  3.796761e+03  3.799150e+03  1.873222e+01   \n",
            "min    6.000000e-02  6.000000e-02  6.000000e-02  6.000000e-02  1.000000e-08   \n",
            "25%    4.195800e+02  4.196400e+02  4.195000e+02  4.195700e+02  9.024000e-01   \n",
            "50%    1.014580e+03  1.014890e+03  1.014150e+03  1.014530e+03  2.692900e+00   \n",
            "75%    6.322630e+03  6.324010e+03  6.321090e+03  6.322670e+03  7.600965e+00   \n",
            "max    1.989199e+04  1.989199e+04  1.989198e+04  1.989199e+04  1.563267e+03   \n",
            "\n",
            "       Volume_(Currency)  Weighted_Price  \n",
            "count       1.990691e+06    1.990691e+06  \n",
            "mean        3.600157e+04    3.246341e+03  \n",
            "std         1.401879e+05    3.799078e+03  \n",
            "min         2.641700e-06    6.000000e-02  \n",
            "25%         6.440031e+02    4.195645e+02  \n",
            "50%         3.695642e+03    1.014512e+03  \n",
            "75%         1.972392e+04    6.322550e+03  \n",
            "max         1.997076e+07    1.989199e+04  \n"
          ]
        }
      ]
    },
    {
      "cell_type": "code",
      "source": [
        "import pandas as pd\n",
        "import matplotlib.pyplot as plt\n",
        "\n",
        "\n",
        "df = pd.read_csv('coinbaseUSD_1-min_data_2014-12-01_to_2019-01-09.csv')\n",
        "\n",
        "# filter data based on timestamp\n",
        "df = df[df['Timestamp'] >= 1483228800]\n",
        "\n",
        "# fill missing values\n",
        "df.fillna(method='ffill', inplace=True)\n",
        "\n",
        "# rename columns and convert timestamp to datetime format\n",
        "df.rename(columns={'Timestamp': 'Date'}, inplace=True)\n",
        "df['Date'] = pd.to_datetime(df['Date'], unit='s')\n",
        "df.set_index('Date', inplace=True)\n",
        "\n",
        "daily_df = df.resample('D').first()\n",
        "\n",
        "# plot\n",
        "plt.figure(figsize=(14, 7))\n",
        "plt.plot(daily_df.index, daily_df['High'], label='High', color='red')\n",
        "plt.plot(daily_df.index, daily_df['Low'], label='Low', color='blue')\n",
        "plt.plot(daily_df.index, daily_df['Open'], label='Open', color='green')\n",
        "plt.plot(daily_df.index, daily_df['Close'], label='Close', color='orange')\n",
        "plt.plot(daily_df.index, daily_df['Volume_(BTC)'], label='Volume_(BTC)', color='purple')\n",
        "plt.plot(daily_df.index, daily_df['Volume_(Currency)'], label='Volume_(Currency)', color='brown')\n",
        "\n",
        "plt.title('Daily Bitcoin Prices')\n",
        "plt.ylabel('Price in USD')\n",
        "plt.xlabel('Date')\n",
        "plt.legend()\n",
        "plt.show()\n"
      ],
      "metadata": {
        "colab": {
          "base_uri": "https://localhost:8080/",
          "height": 640
        },
        "id": "k2Xa_vgVHNc2",
        "outputId": "b1a72120-bed7-41cc-ab1e-e1e994c2a94a"
      },
      "execution_count": null,
      "outputs": [
        {
          "output_type": "display_data",
          "data": {
            "text/plain": [
              "<Figure size 1400x700 with 1 Axes>"
            ],
            "image/png": "[encoded data removed]"
          },
          "metadata": {}
        }
      ]
    }
  ]
}